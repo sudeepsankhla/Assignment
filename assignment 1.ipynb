{
 "cells": [
  {
   "cell_type": "code",
   "execution_count": 15,
   "metadata": {},
   "outputs": [
    {
     "name": "stdout",
     "output_type": "stream",
     "text": [
      "1,2,3,4,5,2,1,3\n",
      "sample input=1,2,3,4,5,2,1,3\n",
      "output={'4', '5', ',', '3', '2', '1'}\n"
     ]
    }
   ],
   "source": [
    "#Q1\n",
    "S_I=input()\n",
    "print(\"sample input=\"+str(S_I))\n",
    "O_L=\"output=\"+str(set(S_I))\n",
    "output=print(O_L)"
   ]
  },
  {
   "cell_type": "code",
   "execution_count": 1,
   "metadata": {},
   "outputs": [
    {
     "name": "stdout",
     "output_type": "stream",
     "text": [
      "<class 'tuple'>\n",
      "12\n",
      "53\n",
      "12\n",
      "1\n"
     ]
    }
   ],
   "source": [
    "#Q2\n",
    "a=(1,2,5,12,4,1,2,3,4,6,7,6)\n",
    "print(type(a))\n",
    "print(45len(a))\n",
    "print(sum(a))\n",
    "print(max(a))\n",
    "print(min(a))"
   ]
  },
  {
   "cell_type": "code",
   "execution_count": null,
   "metadata": {},
   "outputs": [],
   "source": [
    "#Q3\n",
    "num=int(input(\"enter a no:\"))\n",
    "print([num%2])\n"
   ]
  },
  {
   "cell_type": "code",
   "execution_count": 17,
   "metadata": {},
   "outputs": [
    {
     "name": "stdout",
     "output_type": "stream",
     "text": [
      "<class 'list'>\n",
      "<class 'list'>\n",
      "['1', '7', '2', '3', '4', '5', '7', '9', '8']\n",
      "['1', '2', '3', '4', '5', '7', '7', '8', '9']\n"
     ]
    }
   ],
   "source": [
    "#Q5\n",
    "A=['1','7','2','3','4']\n",
    "print(type(A))\n",
    "B=['5','7','9','8']\n",
    "print(type(B))\n",
    "c=A+B\n",
    "print(c)\n",
    "c.sort()\n",
    "print(c)\n",
    "\n"
   ]
  },
  {
   "cell_type": "code",
   "execution_count": null,
   "metadata": {},
   "outputs": [],
   "source": [
    "#Q3\n",
    "a=int(input(\"enter a no:\"))\n",
    "i=int(input(\"enter a bit:\"))\n",
    "num=1<<i\n",
    "result=a^num\n",
    "print(result)"
   ]
  },
  {
   "cell_type": "code",
   "execution_count": null,
   "metadata": {},
   "outputs": [],
   "source": []
  }
 ],
 "metadata": {
  "kernelspec": {
   "display_name": "Python 3",
   "language": "python",
   "name": "python3"
  },
  "language_info": {
   "codemirror_mode": {
    "name": "ipython",
    "version": 3
   },
   "file_extension": ".py",
   "mimetype": "text/x-python",
   "name": "python",
   "nbconvert_exporter": "python",
   "pygments_lexer": "ipython3",
   "version": "3.7.6"
  }
 },
 "nbformat": 4,
 "nbformat_minor": 4
}
